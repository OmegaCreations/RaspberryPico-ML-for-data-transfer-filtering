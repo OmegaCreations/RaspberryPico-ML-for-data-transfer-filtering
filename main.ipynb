{
  "cells": [
    {
      "cell_type": "code",
      "execution_count": null,
      "metadata": {
        "id": "11CIXz_l7O1U"
      },
      "outputs": [],
      "source": [
        "# imports\n",
        "import numpy as np\n",
        "import tensorflow as tf\n",
        "from tensorflow import keras\n",
        "import matplotlib.pyplot as plt\n",
        "import cv2"
      ]
    },
    {
      "cell_type": "code",
      "execution_count": null,
      "metadata": {
        "id": "yELBnZ0q9WZq"
      },
      "outputs": [],
      "source": [
        "# Generate square\n",
        "def add_square(img, center, width):\n",
        "  start_point = (center[0]-width, center[1]-width)\n",
        "  end_point   = (center[0]+width, center[1]+width)\n",
        "  cv2.rectangle(img, start_point, end_point, (255, 255, 255),cv2.FILLED)"
      ]
    },
    {
      "cell_type": "code",
      "execution_count": null,
      "metadata": {
        "id": "VeV5Q1ky7izq"
      },
      "outputs": [],
      "source": [
        "# generate sample\n",
        "def create_data_sample(num_shapes, height, width):\n",
        "  img = np.zeros((height, width, 3))\n",
        "  for i in range(num_shapes):\n",
        "    x = int(np.random.rand()*width)\n",
        "    y = int(np.random.rand()*height)\n",
        "    if np.random.rand() > 0.5:\n",
        "      cv2.circle(img, (x,y), int(np.ceil(width*0.05)), (255, 255, 255), cv2.FILLED)\n",
        "      data_shape = 0\n",
        "      # Show circle pos\n",
        "      # cv2.circle(label, (x,y), int(np.ceil(width*0.02)), (1, 1, 1), cv2.FILLED)\n",
        "    else:\n",
        "      data_shape = 1\n",
        "      add_square(img, (x,y), int(np.ceil(width*0.05*0.7)))\n",
        "  return img, data_shape\n"
      ]
    },
    {
      "cell_type": "code",
      "execution_count": null,
      "metadata": {
        "id": "ahEDuTw_uelA"
      },
      "outputs": [],
      "source": [
        "# def test_batch(num_shapes, height, width):\n",
        "#   img, data_shape = create_data_sample(num_shapes, height, width)\n",
        "#   return np.expand_dims(img,0), data_shape"
      ]
    },
    {
      "cell_type": "code",
      "execution_count": null,
      "metadata": {
        "id": "DcjI2eH1HDql"
      },
      "outputs": [],
      "source": [
        "# def grayscale_image(img):\n",
        "#   return np.expand_dims((img[:,:,0] + img[:,:,1] + img[:,:,2])/3,2)"
      ]
    },
    {
      "cell_type": "code",
      "execution_count": null,
      "metadata": {
        "id": "Fe5pV5xu-2XS"
      },
      "outputs": [],
      "source": [
        "# # (128,128,1) --> (128,128,3)\n",
        "# def to_three_channels(img):\n",
        "#   return np.squeeze(np.stack((img,img,img), 2))"
      ]
    },
    {
      "cell_type": "code",
      "execution_count": null,
      "metadata": {
        "id": "6e-JcGdI8jn7"
      },
      "outputs": [],
      "source": [
        "def show_sample(img, shape):\n",
        "  class_names = ['Circle', 'Square'] # Training shapes list\n",
        "  plt.imshow(img)\n",
        "  plt.title(class_names[shape], fontsize=20)\n",
        "  # the pos info\n",
        "  # axis[1].imshow(to_three_channels(label))"
      ]
    },
    {
      "cell_type": "code",
      "source": [
        "def show_sample_group(img_list, shape_list, count):\n",
        "  table_height = int(count / 4) + 1\n",
        "  labels = [\"Circle\", \"Square\"]\n",
        "  for i in range(count):\n",
        "    plt.subplot(table_height, 4, i+1)\n",
        "    plt.xticks([])\n",
        "    plt.yticks([])\n",
        "    plt.grid(False)\n",
        "    plt.imshow(img_list[i], cmap=plt.cm.binary)\n",
        "    plt.xlabel(labels[shape_list[i]])"
      ],
      "metadata": {
        "id": "uP1v4aiuigwL"
      },
      "execution_count": null,
      "outputs": []
    },
    {
      "cell_type": "code",
      "execution_count": null,
      "metadata": {
        "id": "ezsg3vRxEePg"
      },
      "outputs": [],
      "source": [
        "# def show_batch(img, shape):\n",
        "#   show_sample(img[0,:,:,:], shape)"
      ]
    },
    {
      "cell_type": "code",
      "execution_count": null,
      "metadata": {
        "colab": {
          "base_uri": "https://localhost:8080/",
          "height": 477
        },
        "id": "_NMRH77R8t_Z",
        "outputId": "28b67a31-4bb9-49cf-c8d8-9133796955de"
      },
      "outputs": [
        {
          "output_type": "stream",
          "name": "stderr",
          "text": [
            "WARNING:matplotlib.image:Clipping input data to the valid range for imshow with RGB data ([0..1] for floats or [0..255] for integers).\n"
          ]
        },
        {
          "output_type": "display_data",
          "data": {
            "text/plain": [
              "<Figure size 640x480 with 1 Axes>"
            ],
            "image/png": "[encoded data removed]"
          },
          "metadata": {}
        }
      ],
      "source": [
        "img_shape = (320, 240, 1)\n",
        "img, data_shape = create_data_sample(1, img_shape[0], img_shape[1]) # data smaple with 1 shape, height, width\n",
        "show_sample(img, data_shape)"
      ]
    },
    {
      "cell_type": "code",
      "execution_count": null,
      "metadata": {
        "colab": {
          "base_uri": "https://localhost:8080/"
        },
        "id": "LuT2wrG_FMO-",
        "outputId": "eeb3d556-293b-4a8f-d36e-607d8d6522ae"
      },
      "outputs": [
        {
          "output_type": "stream",
          "name": "stdout",
          "text": [
            "Model: \"sequential\"\n",
            "_________________________________________________________________\n",
            " Layer (type)                Output Shape              Param #   \n",
            "=================================================================\n",
            " flatten (Flatten)           (None, 230400)            0         \n",
            "                                                                 \n",
            " dense (Dense)               (None, 128)               29491328  \n",
            "                                                                 \n",
            " dense_1 (Dense)             (None, 2)                 258       \n",
            "                                                                 \n",
            "=================================================================\n",
            "Total params: 29491586 (112.50 MB)\n",
            "Trainable params: 29491586 (112.50 MB)\n",
            "Non-trainable params: 0 (0.00 Byte)\n",
            "_________________________________________________________________\n"
          ]
        }
      ],
      "source": [
        "# Training model type setup\n",
        "\n",
        "\n",
        "#l2 = keras.regularizers.l2(1e-5)\n",
        "l2 = None\n",
        "\n",
        "model = tf.keras.Sequential([\n",
        "    tf.keras.layers.Flatten(input_shape=(320, 240, 3)), # img size\n",
        "    tf.keras.layers.Dense(128, activation='relu'), # first layer of neurons\n",
        "    tf.keras.layers.Dense(2) # shapes number\n",
        "])\n",
        "\n",
        "model.summary()"
      ]
    },
    {
      "cell_type": "code",
      "execution_count": null,
      "metadata": {
        "id": "ti1MlFfMlZEj"
      },
      "outputs": [],
      "source": [
        "# Generate data sample for teaching model\n",
        "teachingDataSize = 10000\n",
        "\n",
        "x_list = []\n",
        "x_type = []\n",
        "for i in range(teachingDataSize):\n",
        "  x, y  = create_data_sample(1, img_shape[0], img_shape[1])\n",
        "  x_list.append(x)\n",
        "  x_type.append(y)\n",
        "x_list = np.array(x_list)\n",
        "x_type = np.array(x_type)"
      ]
    },
    {
      "cell_type": "code",
      "execution_count": null,
      "metadata": {
        "id": "odlwwBD_oCvQ"
      },
      "outputs": [],
      "source": [
        "i = 0\n",
        "show_sample(x_list[i], x_type[i])"
      ]
    },
    {
      "cell_type": "code",
      "execution_count": null,
      "metadata": {
        "id": "9XgarLrmmKRi"
      },
      "outputs": [],
      "source": [
        "x_list.shape"
      ]
    },
    {
      "cell_type": "code",
      "execution_count": null,
      "metadata": {
        "id": "odXTQBu6GPKO"
      },
      "outputs": [],
      "source": [
        "model.compile(optimizer='Adam',\n",
        "              loss=tf.keras.losses.SparseCategoricalCrossentropy(from_logits=True),\n",
        "              metrics=['accuracy']) # model compile\n",
        "\n",
        "print(\"Num GPUs Available: \", len(tf.config.list_physical_devices('GPU'))) # check GPU avaible devices"
      ]
    },
    {
      "cell_type": "code",
      "execution_count": null,
      "metadata": {
        "id": "ruf3_HvEGJyA"
      },
      "outputs": [],
      "source": [
        "# train model\n",
        "model.fit(x_list, x_type, epochs=25)"
      ]
    },
    {
      "cell_type": "code",
      "execution_count": null,
      "metadata": {
        "colab": {
          "base_uri": "https://localhost:8080/",
          "height": 477
        },
        "id": "X5a70eRoJPH7",
        "outputId": "1a160de2-ffb7-4c61-88e7-6d23b95216c1"
      },
      "outputs": [
        {
          "output_type": "stream",
          "name": "stderr",
          "text": [
            "WARNING:matplotlib.image:Clipping input data to the valid range for imshow with RGB data ([0..1] for floats or [0..255] for integers).\n"
          ]
        },
        {
          "output_type": "display_data",
          "data": {
            "text/plain": [
              "<Figure size 640x480 with 1 Axes>"
            ],
            "image/png": "[encoded data removed]"
          },
          "metadata": {}
        }
      ],
      "source": [
        "# for i in range(8):\n",
        "#   x, y  = create_data_sample(1, 320, 240)\n",
        "#   test_images = []\n",
        "#   test_shapes = []\n",
        "#   test_images.append(x)\n",
        "#   test_shapes.append(y)\n",
        "# show_sample(test_images[0], test_shapes[0])"
      ]
    },
    {
      "cell_type": "code",
      "source": [
        "# Generate data sample for testing model\n",
        "testingDataSize = 10\n",
        "\n",
        "x_list_test = []\n",
        "y_list_test = []\n",
        "for i in range(testingDataSize):\n",
        "  x, y  = create_data_sample(1, img_shape[0], img_shape[1])\n",
        "  x_list_test.append(x)\n",
        "  y_list_test.append(y)\n",
        "x_list_test = np.array(x_list_test)\n",
        "y_list_test = np.array(y_list_test)"
      ],
      "metadata": {
        "id": "55ixQw8Bfz8g"
      },
      "execution_count": null,
      "outputs": []
    },
    {
      "cell_type": "code",
      "execution_count": null,
      "metadata": {
        "id": "6ravQBFDJbzM",
        "colab": {
          "base_uri": "https://localhost:8080/",
          "height": 634
        },
        "outputId": "caac7204-7da6-4b33-b7c1-1a00b73d47a1"
      },
      "outputs": [
        {
          "output_type": "stream",
          "name": "stdout",
          "text": [
            "1/1 [==============================] - 0s 50ms/step\n"
          ]
        },
        {
          "output_type": "stream",
          "name": "stderr",
          "text": [
            "WARNING:matplotlib.image:Clipping input data to the valid range for imshow with RGB data ([0..1] for floats or [0..255] for integers).\n",
            "WARNING:matplotlib.image:Clipping input data to the valid range for imshow with RGB data ([0..1] for floats or [0..255] for integers).\n",
            "WARNING:matplotlib.image:Clipping input data to the valid range for imshow with RGB data ([0..1] for floats or [0..255] for integers).\n",
            "WARNING:matplotlib.image:Clipping input data to the valid range for imshow with RGB data ([0..1] for floats or [0..255] for integers).\n",
            "WARNING:matplotlib.image:Clipping input data to the valid range for imshow with RGB data ([0..1] for floats or [0..255] for integers).\n",
            "WARNING:matplotlib.image:Clipping input data to the valid range for imshow with RGB data ([0..1] for floats or [0..255] for integers).\n",
            "WARNING:matplotlib.image:Clipping input data to the valid range for imshow with RGB data ([0..1] for floats or [0..255] for integers).\n",
            "WARNING:matplotlib.image:Clipping input data to the valid range for imshow with RGB data ([0..1] for floats or [0..255] for integers).\n",
            "WARNING:matplotlib.image:Clipping input data to the valid range for imshow with RGB data ([0..1] for floats or [0..255] for integers).\n",
            "WARNING:matplotlib.image:Clipping input data to the valid range for imshow with RGB data ([0..1] for floats or [0..255] for integers).\n"
          ]
        },
        {
          "output_type": "stream",
          "name": "stdout",
          "text": [
            "Success rate:  0.7\n"
          ]
        },
        {
          "output_type": "display_data",
          "data": {
            "text/plain": [
              "<Figure size 640x480 with 10 Axes>"
            ],
            "image/png": "[encoded data removed]"
          },
          "metadata": {}
        }
      ],
      "source": [
        "probability_model = tf.keras.Sequential([model,\n",
        "                                         tf.keras.layers.Softmax()])\n",
        "predictions = probability_model.predict(x_list_test)\n",
        "predicted_labels = []\n",
        "success_rate = 0\n",
        "for i in range(testingDataSize):\n",
        "  if(np.argmax(predictions[i]) == y_list_test[i]):\n",
        "      success_rate += 1\n",
        "  predicted_labels.append(np.argmax(predictions[i]))\n",
        "show_sample_group(x_list_test, predicted_labels, testingDataSize)\n",
        "print(\"Success rate: \", success_rate / testingDataSize)"
      ]
    },
    {
      "cell_type": "code",
      "execution_count": null,
      "metadata": {
        "colab": {
          "base_uri": "https://localhost:8080/",
          "height": 175
        },
        "id": "fjUnbsGiJo41",
        "outputId": "d4f5580a-0b81-4975-a03d-f43badc7dcf8"
      },
      "outputs": [
        {
          "output_type": "error",
          "ename": "NameError",
          "evalue": "ignored",
          "traceback": [
            "\u001b[0;31m---------------------------------------------------------------------------\u001b[0m",
            "\u001b[0;31mNameError\u001b[0m                                 Traceback (most recent call last)",
            "\u001b[0;32m<ipython-input-70-b46c107e4919>\u001b[0m in \u001b[0;36m<cell line: 1>\u001b[0;34m()\u001b[0m\n\u001b[0;32m----> 1\u001b[0;31m \u001b[0mloss_function\u001b[0m\u001b[0;34m(\u001b[0m\u001b[0my_pred\u001b[0m\u001b[0;34m,\u001b[0m \u001b[0mlabel\u001b[0m\u001b[0;34m)\u001b[0m\u001b[0;34m\u001b[0m\u001b[0;34m\u001b[0m\u001b[0m\n\u001b[0m",
            "\u001b[0;31mNameError\u001b[0m: name 'loss_function' is not defined"
          ]
        }
      ],
      "source": [
        "# loss_function(y_pred, label)"
      ]
    }
  ],
  "metadata": {
    "accelerator": "GPU",
    "colab": {
      "provenance": []
    },
    "kernelspec": {
      "display_name": "Python 3",
      "name": "python3"
    },
    "language_info": {
      "codemirror_mode": {
        "name": "ipython",
        "version": 3
      },
      "file_extension": ".py",
      "mimetype": "text/x-python",
      "name": "python",
      "nbconvert_exporter": "python",
      "pygments_lexer": "ipython3",
      "version": "3.11.6"
    }
  },
  "nbformat": 4,
  "nbformat_minor": 0
}