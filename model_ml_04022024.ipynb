{
  "cells": [
    {
      "cell_type": "markdown",
      "metadata": {
        "id": "view-in-github",
        "colab_type": "text"
      },
      "source": [
        "<a href=\"https://colab.research.google.com/github/OmegaCreations/RaspberryPico-ML-for-data-transfer-filtering/blob/main/model_ml_04022024.ipynb\" target=\"_parent\"><img src=\"https://colab.research.google.com/assets/colab-badge.svg\" alt=\"Open In Colab\"/></a>"
      ]
    },
    {
      "cell_type": "code",
      "source": [
        "!apt-get update -y\n",
        "!apt-get install python3.8 python3.8-distutils\n",
        "!update-alternatives --install /usr/bin/python3 python3 /usr/bin/python3.8 1\n",
        "!update-alternatives --config python3\n",
        "!apt-get install python3-pip\n",
        "!python3 -m pip install --upgrade pip --user"
      ],
      "metadata": {
        "colab": {
          "base_uri": "https://localhost:8080/"
        },
        "id": "312KWgKGSZ4H",
        "outputId": "e7b28dfa-9a11-4229-e3d7-812689dca8c4"
      },
      "execution_count": null,
      "outputs": [
        {
          "output_type": "stream",
          "name": "stdout",
          "text": [
            "\r0% [Working]\r            \rGet:1 https://cloud.r-project.org/bin/linux/ubuntu jammy-cran40/ InRelease [3,626 B]\n",
            "\r0% [Waiting for headers] [Waiting for headers] [1 InRelease 0 B/3,626 B 0%] [Connecting to ppa.launc\r0% [Waiting for headers] [Waiting for headers] [Connecting to ppa.launchpadcontent.net] [Waiting for\r                                                                                                    \rHit:2 https://developer.download.nvidia.com/compute/cuda/repos/ubuntu2204/x86_64  InRelease\n",
            "\r                                                                                                    \r0% [Waiting for headers] [Waiting for headers] [Connecting to ppa.launchpadcontent.net]\r                                                                                       \rGet:3 http://security.ubuntu.com/ubuntu jammy-security InRelease [110 kB]\n",
            "\r0% [Waiting for headers] [3 InRelease 2,588 B/110 kB 2%] [Connecting to ppa.launchpadcontent.net]\r                                                                                                 \rHit:4 http://archive.ubuntu.com/ubuntu jammy InRelease\n",
            "Get:5 http://archive.ubuntu.com/ubuntu jammy-updates InRelease [119 kB]\n",
            "Hit:6 http://archive.ubuntu.com/ubuntu jammy-backports InRelease\n",
            "Get:7 http://archive.ubuntu.com/ubuntu jammy-updates/universe amd64 Packages [1,333 kB]\n",
            "Get:8 https://ppa.launchpadcontent.net/c2d4u.team/c2d4u4.0+/ubuntu jammy InRelease [18.1 kB]\n",
            "Get:9 http://archive.ubuntu.com/ubuntu jammy-updates/main amd64 Packages [1,678 kB]\n",
            "Hit:10 https://ppa.launchpadcontent.net/deadsnakes/ppa/ubuntu jammy InRelease\n",
            "Hit:11 https://ppa.launchpadcontent.net/graphics-drivers/ppa/ubuntu jammy InRelease\n",
            "Hit:12 https://ppa.launchpadcontent.net/ubuntugis/ppa/ubuntu jammy InRelease\n",
            "Get:13 https://ppa.launchpadcontent.net/c2d4u.team/c2d4u4.0+/ubuntu jammy/main Sources [2,268 kB]\n",
            "Get:14 https://ppa.launchpadcontent.net/c2d4u.team/c2d4u4.0+/ubuntu jammy/main amd64 Packages [1,164 kB]\n",
            "Fetched 6,693 kB in 3s (2,677 kB/s)\n",
            "Reading package lists... Done\n",
            "Reading package lists... Done\n",
            "Building dependency tree... Done\n",
            "Reading state information... Done\n",
            "The following additional packages will be installed:\n",
            "  libpython3.8-minimal libpython3.8-stdlib mailcap mime-support python3.8-lib2to3 python3.8-minimal\n",
            "Suggested packages:\n",
            "  python3.8-venv binfmt-support\n",
            "The following NEW packages will be installed:\n",
            "  libpython3.8-minimal libpython3.8-stdlib mailcap mime-support python3.8 python3.8-distutils\n",
            "  python3.8-lib2to3 python3.8-minimal\n",
            "0 upgraded, 8 newly installed, 0 to remove and 40 not upgraded.\n",
            "Need to get 5,417 kB of archives.\n",
            "After this operation, 20.2 MB of additional disk space will be used.\n",
            "Get:1 http://archive.ubuntu.com/ubuntu jammy/main amd64 mailcap all 3.70+nmu1ubuntu1 [23.8 kB]\n",
            "Get:2 http://archive.ubuntu.com/ubuntu jammy/main amd64 mime-support all 3.66 [3,696 B]\n",
            "Get:3 https://ppa.launchpadcontent.net/deadsnakes/ppa/ubuntu jammy/main amd64 libpython3.8-minimal amd64 3.8.18-1+jammy1 [794 kB]\n",
            "Get:4 https://ppa.launchpadcontent.net/deadsnakes/ppa/ubuntu jammy/main amd64 python3.8-minimal amd64 3.8.18-1+jammy1 [2,024 kB]\n",
            "Get:5 https://ppa.launchpadcontent.net/deadsnakes/ppa/ubuntu jammy/main amd64 libpython3.8-stdlib amd64 3.8.18-1+jammy1 [1,815 kB]\n",
            "Get:6 https://ppa.launchpadcontent.net/deadsnakes/ppa/ubuntu jammy/main amd64 python3.8 amd64 3.8.18-1+jammy1 [438 kB]\n",
            "Get:7 https://ppa.launchpadcontent.net/deadsnakes/ppa/ubuntu jammy/main amd64 python3.8-lib2to3 all 3.8.18-1+jammy1 [126 kB]\n",
            "Get:8 https://ppa.launchpadcontent.net/deadsnakes/ppa/ubuntu jammy/main amd64 python3.8-distutils all 3.8.18-1+jammy1 [193 kB]\n",
            "Fetched 5,417 kB in 2s (2,799 kB/s)\n",
            "Selecting previously unselected package libpython3.8-minimal:amd64.\n",
            "(Reading database ... 121730 files and directories currently installed.)\n",
            "Preparing to unpack .../0-libpython3.8-minimal_3.8.18-1+jammy1_amd64.deb ...\n",
            "Unpacking libpython3.8-minimal:amd64 (3.8.18-1+jammy1) ...\n",
            "Selecting previously unselected package python3.8-minimal.\n",
            "Preparing to unpack .../1-python3.8-minimal_3.8.18-1+jammy1_amd64.deb ...\n",
            "Unpacking python3.8-minimal (3.8.18-1+jammy1) ...\n",
            "Selecting previously unselected package mailcap.\n",
            "Preparing to unpack .../2-mailcap_3.70+nmu1ubuntu1_all.deb ...\n",
            "Unpacking mailcap (3.70+nmu1ubuntu1) ...\n",
            "Selecting previously unselected package mime-support.\n",
            "Preparing to unpack .../3-mime-support_3.66_all.deb ...\n",
            "Unpacking mime-support (3.66) ...\n",
            "Selecting previously unselected package libpython3.8-stdlib:amd64.\n",
            "Preparing to unpack .../4-libpython3.8-stdlib_3.8.18-1+jammy1_amd64.deb ...\n",
            "Unpacking libpython3.8-stdlib:amd64 (3.8.18-1+jammy1) ...\n",
            "Selecting previously unselected package python3.8.\n",
            "Preparing to unpack .../5-python3.8_3.8.18-1+jammy1_amd64.deb ...\n",
            "Unpacking python3.8 (3.8.18-1+jammy1) ...\n",
            "Selecting previously unselected package python3.8-lib2to3.\n",
            "Preparing to unpack .../6-python3.8-lib2to3_3.8.18-1+jammy1_all.deb ...\n",
            "Unpacking python3.8-lib2to3 (3.8.18-1+jammy1) ...\n",
            "Selecting previously unselected package python3.8-distutils.\n",
            "Preparing to unpack .../7-python3.8-distutils_3.8.18-1+jammy1_all.deb ...\n",
            "Unpacking python3.8-distutils (3.8.18-1+jammy1) ...\n",
            "Setting up libpython3.8-minimal:amd64 (3.8.18-1+jammy1) ...\n",
            "Setting up python3.8-lib2to3 (3.8.18-1+jammy1) ...\n",
            "Setting up python3.8-minimal (3.8.18-1+jammy1) ...\n",
            "Setting up python3.8-distutils (3.8.18-1+jammy1) ...\n",
            "Setting up mailcap (3.70+nmu1ubuntu1) ...\n",
            "Setting up mime-support (3.66) ...\n",
            "Setting up libpython3.8-stdlib:amd64 (3.8.18-1+jammy1) ...\n",
            "Setting up python3.8 (3.8.18-1+jammy1) ...\n",
            "Processing triggers for man-db (2.10.2-1) ...\n",
            "update-alternatives: using /usr/bin/python3.8 to provide /usr/bin/python3 (python3) in auto mode\n",
            "There is only one alternative in link group python3 (providing /usr/bin/python3): /usr/bin/python3.8\n",
            "Nothing to configure.\n",
            "Reading package lists... Done\n",
            "Building dependency tree... Done\n",
            "Reading state information... Done\n",
            "The following additional packages will be installed:\n",
            "  python3-setuptools python3-wheel\n",
            "Suggested packages:\n",
            "  python-setuptools-doc\n",
            "The following NEW packages will be installed:\n",
            "  python3-pip python3-setuptools python3-wheel\n",
            "0 upgraded, 3 newly installed, 0 to remove and 40 not upgraded.\n",
            "Need to get 1,677 kB of archives.\n",
            "After this operation, 8,967 kB of additional disk space will be used.\n",
            "Get:1 http://archive.ubuntu.com/ubuntu jammy-updates/main amd64 python3-setuptools all 59.6.0-1.2ubuntu0.22.04.1 [339 kB]\n",
            "Get:2 http://archive.ubuntu.com/ubuntu jammy-updates/universe amd64 python3-wheel all 0.37.1-2ubuntu0.22.04.1 [32.0 kB]\n",
            "Get:3 http://archive.ubuntu.com/ubuntu jammy-updates/universe amd64 python3-pip all 22.0.2+dfsg-1ubuntu0.4 [1,305 kB]\n",
            "Fetched 1,677 kB in 1s (2,037 kB/s)\n",
            "Selecting previously unselected package python3-setuptools.\n",
            "(Reading database ... 122520 files and directories currently installed.)\n",
            "Preparing to unpack .../python3-setuptools_59.6.0-1.2ubuntu0.22.04.1_all.deb ...\n",
            "Unpacking python3-setuptools (59.6.0-1.2ubuntu0.22.04.1) ...\n",
            "Selecting previously unselected package python3-wheel.\n",
            "Preparing to unpack .../python3-wheel_0.37.1-2ubuntu0.22.04.1_all.deb ...\n",
            "Unpacking python3-wheel (0.37.1-2ubuntu0.22.04.1) ...\n",
            "Selecting previously unselected package python3-pip.\n",
            "Preparing to unpack .../python3-pip_22.0.2+dfsg-1ubuntu0.4_all.deb ...\n",
            "Unpacking python3-pip (22.0.2+dfsg-1ubuntu0.4) ...\n",
            "Setting up python3-setuptools (59.6.0-1.2ubuntu0.22.04.1) ...\n",
            "Setting up python3-wheel (0.37.1-2ubuntu0.22.04.1) ...\n",
            "Setting up python3-pip (22.0.2+dfsg-1ubuntu0.4) ...\n",
            "Processing triggers for man-db (2.10.2-1) ...\n",
            "Requirement already satisfied: pip in /usr/lib/python3/dist-packages (22.0.2)\n",
            "Collecting pip\n",
            "  Downloading pip-24.0-py3-none-any.whl (2.1 MB)\n",
            "\u001b[2K     \u001b[90m━━━━━━━━━━━━━━━━━━━━━━━━━━━━━━━━━━━━━━━━\u001b[0m \u001b[32m2.1/2.1 MB\u001b[0m \u001b[31m6.9 MB/s\u001b[0m eta \u001b[36m0:00:00\u001b[0m\n",
            "\u001b[?25hInstalling collected packages: pip\n",
            "\u001b[33m  WARNING: The scripts pip, pip3, pip3.10 and pip3.8 are installed in '/root/.local/bin' which is not on PATH.\n",
            "  Consider adding this directory to PATH or, if you prefer to suppress this warning, use --no-warn-script-location.\u001b[0m\u001b[33m\n",
            "\u001b[0mSuccessfully installed pip-24.0\n",
            "\u001b[33mWARNING: Running pip as the 'root' user can result in broken permissions and conflicting behaviour with the system package manager. It is recommended to use a virtual environment instead: https://pip.pypa.io/warnings/venv\u001b[0m\u001b[33m\n",
            "\u001b[0m"
          ]
        }
      ]
    },
    {
      "cell_type": "code",
      "execution_count": null,
      "metadata": {
        "id": "11CIXz_l7O1U",
        "colab": {
          "base_uri": "https://localhost:8080/"
        },
        "outputId": "e13f3d05-8a05-4926-f3c1-8cd7f0cc8b96"
      },
      "outputs": [
        {
          "output_type": "stream",
          "name": "stdout",
          "text": [
            "Collecting tensorflow==2.8.0\n",
            "  Downloading tensorflow-2.8.0-cp310-cp310-manylinux2010_x86_64.whl (497.6 MB)\n",
            "\u001b[2K     \u001b[90m━━━━━━━━━━━━━━━━━━━━━━━━━━━━━━━━━━━━━━━━\u001b[0m \u001b[32m497.6/497.6 MB\u001b[0m \u001b[31m2.7 MB/s\u001b[0m eta \u001b[36m0:00:00\u001b[0m\n",
            "\u001b[?25hRequirement already satisfied: absl-py>=0.4.0 in /usr/local/lib/python3.10/dist-packages (from tensorflow==2.8.0) (1.4.0)\n",
            "Requirement already satisfied: astunparse>=1.6.0 in /usr/local/lib/python3.10/dist-packages (from tensorflow==2.8.0) (1.6.3)\n",
            "Requirement already satisfied: flatbuffers>=1.12 in /usr/local/lib/python3.10/dist-packages (from tensorflow==2.8.0) (23.5.26)\n",
            "Requirement already satisfied: gast>=0.2.1 in /usr/local/lib/python3.10/dist-packages (from tensorflow==2.8.0) (0.5.4)\n",
            "Requirement already satisfied: google-pasta>=0.1.1 in /usr/local/lib/python3.10/dist-packages (from tensorflow==2.8.0) (0.2.0)\n",
            "Requirement already satisfied: h5py>=2.9.0 in /usr/local/lib/python3.10/dist-packages (from tensorflow==2.8.0) (3.9.0)\n",
            "Collecting keras-preprocessing>=1.1.1 (from tensorflow==2.8.0)\n",
            "  Downloading Keras_Preprocessing-1.1.2-py2.py3-none-any.whl (42 kB)\n",
            "\u001b[2K     \u001b[90m━━━━━━━━━━━━━━━━━━━━━━━━━━━━━━━━━━━━━━━━\u001b[0m \u001b[32m42.6/42.6 kB\u001b[0m \u001b[31m5.7 MB/s\u001b[0m eta \u001b[36m0:00:00\u001b[0m\n",
            "\u001b[?25hRequirement already satisfied: libclang>=9.0.1 in /usr/local/lib/python3.10/dist-packages (from tensorflow==2.8.0) (16.0.6)\n",
            "Requirement already satisfied: numpy>=1.20 in /usr/local/lib/python3.10/dist-packages (from tensorflow==2.8.0) (1.23.5)\n",
            "Requirement already satisfied: opt-einsum>=2.3.2 in /usr/local/lib/python3.10/dist-packages (from tensorflow==2.8.0) (3.3.0)\n",
            "Requirement already satisfied: protobuf>=3.9.2 in /usr/local/lib/python3.10/dist-packages (from tensorflow==2.8.0) (3.20.3)\n",
            "Requirement already satisfied: setuptools in /usr/local/lib/python3.10/dist-packages (from tensorflow==2.8.0) (67.7.2)\n",
            "Requirement already satisfied: six>=1.12.0 in /usr/local/lib/python3.10/dist-packages (from tensorflow==2.8.0) (1.16.0)\n",
            "Requirement already satisfied: termcolor>=1.1.0 in /usr/local/lib/python3.10/dist-packages (from tensorflow==2.8.0) (2.4.0)\n",
            "Requirement already satisfied: typing-extensions>=3.6.6 in /usr/local/lib/python3.10/dist-packages (from tensorflow==2.8.0) (4.5.0)\n",
            "Requirement already satisfied: wrapt>=1.11.0 in /usr/local/lib/python3.10/dist-packages (from tensorflow==2.8.0) (1.14.1)\n",
            "Collecting tensorboard<2.9,>=2.8 (from tensorflow==2.8.0)\n",
            "  Downloading tensorboard-2.8.0-py3-none-any.whl (5.8 MB)\n",
            "\u001b[2K     \u001b[90m━━━━━━━━━━━━━━━━━━━━━━━━━━━━━━━━━━━━━━━━\u001b[0m \u001b[32m5.8/5.8 MB\u001b[0m \u001b[31m59.3 MB/s\u001b[0m eta \u001b[36m0:00:00\u001b[0m\n",
            "\u001b[?25hCollecting tf-estimator-nightly==2.8.0.dev2021122109 (from tensorflow==2.8.0)\n",
            "  Downloading tf_estimator_nightly-2.8.0.dev2021122109-py2.py3-none-any.whl (462 kB)\n",
            "\u001b[2K     \u001b[90m━━━━━━━━━━━━━━━━━━━━━━━━━━━━━━━━━━━━━━━━\u001b[0m \u001b[32m462.5/462.5 kB\u001b[0m \u001b[31m35.1 MB/s\u001b[0m eta \u001b[36m0:00:00\u001b[0m\n",
            "\u001b[?25hCollecting keras<2.9,>=2.8.0rc0 (from tensorflow==2.8.0)\n",
            "  Downloading keras-2.8.0-py2.py3-none-any.whl (1.4 MB)\n",
            "\u001b[2K     \u001b[90m━━━━━━━━━━━━━━━━━━━━━━━━━━━━━━━━━━━━━━━━\u001b[0m \u001b[32m1.4/1.4 MB\u001b[0m \u001b[31m32.9 MB/s\u001b[0m eta \u001b[36m0:00:00\u001b[0m\n",
            "\u001b[?25hRequirement already satisfied: tensorflow-io-gcs-filesystem>=0.23.1 in /usr/local/lib/python3.10/dist-packages (from tensorflow==2.8.0) (0.35.0)\n",
            "Requirement already satisfied: grpcio<2.0,>=1.24.3 in /usr/local/lib/python3.10/dist-packages (from tensorflow==2.8.0) (1.60.0)\n",
            "Requirement already satisfied: wheel<1.0,>=0.23.0 in /usr/local/lib/python3.10/dist-packages (from astunparse>=1.6.0->tensorflow==2.8.0) (0.42.0)\n",
            "Requirement already satisfied: google-auth<3,>=1.6.3 in /usr/local/lib/python3.10/dist-packages (from tensorboard<2.9,>=2.8->tensorflow==2.8.0) (2.17.3)\n",
            "Collecting google-auth-oauthlib<0.5,>=0.4.1 (from tensorboard<2.9,>=2.8->tensorflow==2.8.0)\n",
            "  Downloading google_auth_oauthlib-0.4.6-py2.py3-none-any.whl (18 kB)\n",
            "Requirement already satisfied: markdown>=2.6.8 in /usr/local/lib/python3.10/dist-packages (from tensorboard<2.9,>=2.8->tensorflow==2.8.0) (3.5.2)\n",
            "Requirement already satisfied: requests<3,>=2.21.0 in /usr/local/lib/python3.10/dist-packages (from tensorboard<2.9,>=2.8->tensorflow==2.8.0) (2.31.0)\n",
            "Collecting tensorboard-data-server<0.7.0,>=0.6.0 (from tensorboard<2.9,>=2.8->tensorflow==2.8.0)\n",
            "  Downloading tensorboard_data_server-0.6.1-py3-none-manylinux2010_x86_64.whl (4.9 MB)\n",
            "\u001b[2K     \u001b[90m━━━━━━━━━━━━━━━━━━━━━━━━━━━━━━━━━━━━━━━━\u001b[0m \u001b[32m4.9/4.9 MB\u001b[0m \u001b[31m19.3 MB/s\u001b[0m eta \u001b[36m0:00:00\u001b[0m\n",
            "\u001b[?25hCollecting tensorboard-plugin-wit>=1.6.0 (from tensorboard<2.9,>=2.8->tensorflow==2.8.0)\n",
            "  Downloading tensorboard_plugin_wit-1.8.1-py3-none-any.whl (781 kB)\n",
            "\u001b[2K     \u001b[90m━━━━━━━━━━━━━━━━━━━━━━━━━━━━━━━━━━━━━━━━\u001b[0m \u001b[32m781.3/781.3 kB\u001b[0m \u001b[31m36.4 MB/s\u001b[0m eta \u001b[36m0:00:00\u001b[0m\n",
            "\u001b[?25hRequirement already satisfied: werkzeug>=0.11.15 in /usr/local/lib/python3.10/dist-packages (from tensorboard<2.9,>=2.8->tensorflow==2.8.0) (3.0.1)\n",
            "Requirement already satisfied: cachetools<6.0,>=2.0.0 in /usr/local/lib/python3.10/dist-packages (from google-auth<3,>=1.6.3->tensorboard<2.9,>=2.8->tensorflow==2.8.0) (5.3.2)\n",
            "Requirement already satisfied: pyasn1-modules>=0.2.1 in /usr/local/lib/python3.10/dist-packages (from google-auth<3,>=1.6.3->tensorboard<2.9,>=2.8->tensorflow==2.8.0) (0.3.0)\n",
            "Requirement already satisfied: rsa<5,>=3.1.4 in /usr/local/lib/python3.10/dist-packages (from google-auth<3,>=1.6.3->tensorboard<2.9,>=2.8->tensorflow==2.8.0) (4.9)\n",
            "Requirement already satisfied: requests-oauthlib>=0.7.0 in /usr/local/lib/python3.10/dist-packages (from google-auth-oauthlib<0.5,>=0.4.1->tensorboard<2.9,>=2.8->tensorflow==2.8.0) (1.3.1)\n",
            "Requirement already satisfied: charset-normalizer<4,>=2 in /usr/local/lib/python3.10/dist-packages (from requests<3,>=2.21.0->tensorboard<2.9,>=2.8->tensorflow==2.8.0) (3.3.2)\n",
            "Requirement already satisfied: idna<4,>=2.5 in /usr/local/lib/python3.10/dist-packages (from requests<3,>=2.21.0->tensorboard<2.9,>=2.8->tensorflow==2.8.0) (3.6)\n",
            "Requirement already satisfied: urllib3<3,>=1.21.1 in /usr/local/lib/python3.10/dist-packages (from requests<3,>=2.21.0->tensorboard<2.9,>=2.8->tensorflow==2.8.0) (2.0.7)\n",
            "Requirement already satisfied: certifi>=2017.4.17 in /usr/local/lib/python3.10/dist-packages (from requests<3,>=2.21.0->tensorboard<2.9,>=2.8->tensorflow==2.8.0) (2023.11.17)\n",
            "Requirement already satisfied: MarkupSafe>=2.1.1 in /usr/local/lib/python3.10/dist-packages (from werkzeug>=0.11.15->tensorboard<2.9,>=2.8->tensorflow==2.8.0) (2.1.4)\n",
            "Requirement already satisfied: pyasn1<0.6.0,>=0.4.6 in /usr/local/lib/python3.10/dist-packages (from pyasn1-modules>=0.2.1->google-auth<3,>=1.6.3->tensorboard<2.9,>=2.8->tensorflow==2.8.0) (0.5.1)\n",
            "Requirement already satisfied: oauthlib>=3.0.0 in /usr/local/lib/python3.10/dist-packages (from requests-oauthlib>=0.7.0->google-auth-oauthlib<0.5,>=0.4.1->tensorboard<2.9,>=2.8->tensorflow==2.8.0) (3.2.2)\n",
            "Installing collected packages: tf-estimator-nightly, tensorboard-plugin-wit, keras, tensorboard-data-server, keras-preprocessing, google-auth-oauthlib, tensorboard, tensorflow\n",
            "  Attempting uninstall: keras\n",
            "    Found existing installation: keras 2.15.0\n",
            "    Uninstalling keras-2.15.0:\n",
            "      Successfully uninstalled keras-2.15.0\n",
            "  Attempting uninstall: tensorboard-data-server\n",
            "    Found existing installation: tensorboard-data-server 0.7.2\n",
            "    Uninstalling tensorboard-data-server-0.7.2:\n",
            "      Successfully uninstalled tensorboard-data-server-0.7.2\n",
            "  Attempting uninstall: google-auth-oauthlib\n",
            "    Found existing installation: google-auth-oauthlib 1.2.0\n",
            "    Uninstalling google-auth-oauthlib-1.2.0:\n",
            "      Successfully uninstalled google-auth-oauthlib-1.2.0\n",
            "  Attempting uninstall: tensorboard\n",
            "    Found existing installation: tensorboard 2.15.1\n",
            "    Uninstalling tensorboard-2.15.1:\n",
            "      Successfully uninstalled tensorboard-2.15.1\n",
            "  Attempting uninstall: tensorflow\n",
            "    Found existing installation: tensorflow 2.15.0\n",
            "    Uninstalling tensorflow-2.15.0:\n",
            "      Successfully uninstalled tensorflow-2.15.0\n",
            "\u001b[31mERROR: pip's dependency resolver does not currently take into account all the packages that are installed. This behaviour is the source of the following dependency conflicts.\n",
            "pandas-gbq 0.19.2 requires google-auth-oauthlib>=0.7.0, but you have google-auth-oauthlib 0.4.6 which is incompatible.\u001b[0m\u001b[31m\n",
            "\u001b[0mSuccessfully installed google-auth-oauthlib-0.4.6 keras-2.8.0 keras-preprocessing-1.1.2 tensorboard-2.8.0 tensorboard-data-server-0.6.1 tensorboard-plugin-wit-1.8.1 tensorflow-2.8.0 tf-estimator-nightly-2.8.0.dev2021122109\n"
          ]
        }
      ],
      "source": [
        "# imports\n",
        "! pip install tensorflow==2.8.0\n",
        "import numpy as np\n",
        "import random\n",
        "import tensorflow as tf\n",
        "from tensorflow import keras\n",
        "import matplotlib.pyplot as plt\n",
        "import cv2\n",
        "from sklearn.metrics import f1_score"
      ]
    },
    {
      "cell_type": "code",
      "source": [
        "! pip install tensorflow-model-optimization\n",
        "import tensorflow as tf\n",
        "from tensorflow.keras import models\n",
        "#from tensorflow_model_optimization.sparsity import keras as sparsity\n",
        "from tensorflow.keras.layers import Input, Conv2D, GlobalAveragePooling2D"
      ],
      "metadata": {
        "colab": {
          "base_uri": "https://localhost:8080/"
        },
        "id": "hBZfusw_WzvZ",
        "outputId": "b830e7ba-adc7-45a2-ef1b-fcde405e3a47"
      },
      "execution_count": null,
      "outputs": [
        {
          "output_type": "stream",
          "name": "stdout",
          "text": [
            "Collecting tensorflow-model-optimization\n",
            "  Downloading tensorflow_model_optimization-0.7.5-py2.py3-none-any.whl (241 kB)\n",
            "\u001b[2K     \u001b[90m━━━━━━━━━━━━━━━━━━━━━━━━━━━━━━━━━━━━━━━━\u001b[0m \u001b[32m241.2/241.2 kB\u001b[0m \u001b[31m4.4 MB/s\u001b[0m eta \u001b[36m0:00:00\u001b[0m\n",
            "\u001b[?25hRequirement already satisfied: absl-py~=1.2 in /usr/local/lib/python3.10/dist-packages (from tensorflow-model-optimization) (1.4.0)\n",
            "Requirement already satisfied: dm-tree~=0.1.1 in /usr/local/lib/python3.10/dist-packages (from tensorflow-model-optimization) (0.1.8)\n",
            "Requirement already satisfied: numpy~=1.23 in /usr/local/lib/python3.10/dist-packages (from tensorflow-model-optimization) (1.23.5)\n",
            "Requirement already satisfied: six~=1.14 in /usr/local/lib/python3.10/dist-packages (from tensorflow-model-optimization) (1.16.0)\n",
            "Installing collected packages: tensorflow-model-optimization\n",
            "Successfully installed tensorflow-model-optimization-0.7.5\n"
          ]
        }
      ]
    },
    {
      "cell_type": "markdown",
      "source": [
        "# Methods for creating data set"
      ],
      "metadata": {
        "id": "rRYynjS9F6LX"
      }
    },
    {
      "cell_type": "markdown",
      "source": [],
      "metadata": {
        "id": "tZqrkDulItXU"
      }
    },
    {
      "cell_type": "code",
      "execution_count": null,
      "metadata": {
        "id": "yELBnZ0q9WZq"
      },
      "outputs": [],
      "source": [
        "# Generate square\n",
        "def add_square(img, center, width):\n",
        "  start_point = (center[0]-width, center[1]-width)\n",
        "  end_point   = (center[0]+width, center[1]+width)\n",
        "  cv2.rectangle(img, start_point, end_point, (255, 255, 255),cv2.FILLED)"
      ]
    },
    {
      "cell_type": "code",
      "execution_count": null,
      "metadata": {
        "id": "VeV5Q1ky7izq"
      },
      "outputs": [],
      "source": [
        "# generate sample\n",
        "def create_data_sample(num_shapes, height, width):\n",
        "  img = np.zeros((height, width, 3))\n",
        "  for i in range(num_shapes):\n",
        "    x = int(np.random.rand()*width)\n",
        "    y = int(np.random.rand()*height)\n",
        "    if np.random.rand() > 0.5:\n",
        "      radius = random.uniform(0.06, 0.2) # random circle radius multiplier\n",
        "      cv2.circle(img, (x,y), int(np.ceil(width*radius)), (255, 255, 255), cv2.FILLED)\n",
        "      data_shape = 0\n",
        "      # Show circle pos\n",
        "      # cv2.circle(label, (x,y), int(np.ceil(width*0.02)), (1, 1, 1), cv2.FILLED)\n",
        "    else:\n",
        "      data_shape = 1\n",
        "      side = random.uniform(0.07, 0.2) # random square side multiplier\n",
        "      add_square(img, (x,y), int(np.ceil(width*0.6*side)))\n",
        "  return img, data_shape\n"
      ]
    },
    {
      "cell_type": "code",
      "execution_count": null,
      "metadata": {
        "id": "ahEDuTw_uelA"
      },
      "outputs": [],
      "source": [
        "# def test_batch(num_shapes, height, width):\n",
        "#   img, data_shape = create_data_sample(num_shapes, height, width)\n",
        "#   return np.expand_dims(img,0), data_shape"
      ]
    },
    {
      "cell_type": "code",
      "execution_count": null,
      "metadata": {
        "id": "DcjI2eH1HDql"
      },
      "outputs": [],
      "source": [
        "# def grayscale_image(img):\n",
        "#   return np.expand_dims((img[:,:,0] + img[:,:,1] + img[:,:,2])/3,2)"
      ]
    },
    {
      "cell_type": "code",
      "execution_count": null,
      "metadata": {
        "id": "Fe5pV5xu-2XS"
      },
      "outputs": [],
      "source": [
        "# # (128,128,1) --> (128,128,3)\n",
        "# def to_three_channels(img):\n",
        "#   return np.squeeze(np.stack((img,img,img), 2))"
      ]
    },
    {
      "cell_type": "code",
      "execution_count": null,
      "metadata": {
        "id": "6e-JcGdI8jn7"
      },
      "outputs": [],
      "source": [
        "def show_sample(img, shape):\n",
        "  class_names = ['Circle', 'Square'] # Training shapes list\n",
        "  plt.imshow(img)\n",
        "  plt.title(class_names[shape], fontsize=20)\n",
        "  # the pos info\n",
        "  # axis[1].imshow(to_three_channels(label))"
      ]
    },
    {
      "cell_type": "code",
      "source": [
        "def show_sample_group(img_list, shape_list, count):\n",
        "  table_height = int(count / 4) + 1\n",
        "  labels = [\"Circle\", \"Square\"]\n",
        "  for i in range(count):\n",
        "    plt.subplot(table_height, 4, i+1)\n",
        "    plt.xticks([])\n",
        "    plt.yticks([])\n",
        "    plt.grid(False)\n",
        "    plt.imshow(img_list[i], cmap=plt.cm.binary)\n",
        "    plt.xlabel(labels[shape_list[i]])"
      ],
      "metadata": {
        "id": "uP1v4aiuigwL"
      },
      "execution_count": null,
      "outputs": []
    },
    {
      "cell_type": "code",
      "execution_count": null,
      "metadata": {
        "id": "ezsg3vRxEePg"
      },
      "outputs": [],
      "source": [
        "# def show_batch(img, shape):\n",
        "#   show_sample(img[0,:,:,:], shape)"
      ]
    },
    {
      "cell_type": "markdown",
      "source": [
        "# Method for applying a new model - MobileNetv1"
      ],
      "metadata": {
        "id": "3yKWi4laYTn7"
      }
    },
    {
      "cell_type": "code",
      "source": [
        "\n",
        "def create_mobilenetv1_model(input_shape=(96, 96, 1), alpha=0.25):\n",
        "    input_tensor = Input(shape=input_shape)\n",
        "\n",
        "    # MobileNetV1 architecture\n",
        "    base_model = tf.keras.applications.MobileNet(input_shape=(None, None, 3), include_top=False, weights='imagenet', alpha=alpha)\n",
        "    for layer in base_model.layers:\n",
        "        layer.trainable = False  # Freeze pre-trained layers\n",
        "\n",
        "    x = Conv2D(3, (1, 1), padding='same', activation='relu')(input_tensor)  # Convert single-channel to three channels\n",
        "    x = base_model(x)\n",
        "    x = GlobalAveragePooling2D()(x)\n",
        "\n",
        "    output_tensor = Dense(2, activation='softmax')(x)  # Adjust the output layer based on your task\n",
        "\n",
        "    model = models.Model(inputs=input_tensor, outputs=output_tensor)\n",
        "\n",
        "    return model\n",
        "# #"
      ],
      "metadata": {
        "id": "nOGLb8PyYS-a"
      },
      "execution_count": null,
      "outputs": []
    },
    {
      "cell_type": "markdown",
      "source": [
        "# Sample"
      ],
      "metadata": {
        "id": "QQSBd0vwGGaF"
      }
    },
    {
      "cell_type": "code",
      "execution_count": null,
      "metadata": {
        "id": "_NMRH77R8t_Z",
        "colab": {
          "base_uri": "https://localhost:8080/",
          "height": 477
        },
        "outputId": "a295a9df-c0c6-4655-d3f3-e87d5f2bc40d"
      },
      "outputs": [
        {
          "output_type": "stream",
          "name": "stderr",
          "text": [
            "WARNING:matplotlib.image:Clipping input data to the valid range for imshow with RGB data ([0..1] for floats or [0..255] for integers).\n"
          ]
        },
        {
          "output_type": "display_data",
          "data": {
            "text/plain": [
              "<Figure size 640x480 with 1 Axes>"
            ],
            "image/png": "[encoded data removed]"
          },
          "metadata": {}
        }
      ],
      "source": [
        "img_shape = (96, 96, 1) #resolution changed fron 320x240 into 96x96\n",
        "img, data_shape = create_data_sample(1, img_shape[0], img_shape[1]) # data smaple with 1 shape, height, width\n",
        "show_sample(img, data_shape)"
      ]
    },
    {
      "cell_type": "markdown",
      "source": [
        "# Model Training"
      ],
      "metadata": {
        "id": "DT1gEl9TGLHq"
      }
    },
    {
      "cell_type": "code",
      "execution_count": null,
      "metadata": {
        "id": "LuT2wrG_FMO-",
        "colab": {
          "base_uri": "https://localhost:8080/"
        },
        "outputId": "7e30f538-0cdf-4a03-c362-164134c546a9"
      },
      "outputs": [
        {
          "output_type": "stream",
          "name": "stdout",
          "text": [
            "Model: \"sequential_4\"\n",
            "_________________________________________________________________\n",
            " Layer (type)                Output Shape              Param #   \n",
            "=================================================================\n",
            " conv2d_2 (Conv2D)           (None, 32, 32, 32)        320       \n",
            "                                                                 \n",
            " average_pooling2d_1 (Averag  (None, 16, 16, 32)       0         \n",
            " ePooling2D)                                                     \n",
            "                                                                 \n",
            " flatten_1 (Flatten)         (None, 8192)              0         \n",
            "                                                                 \n",
            " dense_3 (Dense)             (None, 64)                524352    \n",
            "                                                                 \n",
            " dense_4 (Dense)             (None, 2)                 130       \n",
            "                                                                 \n",
            "=================================================================\n",
            "Total params: 524,802\n",
            "Trainable params: 524,802\n",
            "Non-trainable params: 0\n",
            "_________________________________________________________________\n"
          ]
        },
        {
          "output_type": "stream",
          "name": "stderr",
          "text": [
            "WARNING:tensorflow:`input_shape` is undefined or non-square, or `rows` is not in [128, 160, 192, 224]. Weights for input shape (224, 224) will be loaded as the default.\n"
          ]
        },
        {
          "output_type": "stream",
          "name": "stdout",
          "text": [
            "Model: \"model_1\"\n",
            "_________________________________________________________________\n",
            " Layer (type)                Output Shape              Param #   \n",
            "=================================================================\n",
            " input_3 (InputLayer)        [(None, 96, 96, 1)]       0         \n",
            "                                                                 \n",
            " conv2d_3 (Conv2D)           (None, 96, 96, 3)         6         \n",
            "                                                                 \n",
            " mobilenet_0.25_224 (Functio  (None, None, None, 256)  218544    \n",
            " nal)                                                            \n",
            "                                                                 \n",
            " global_average_pooling2d_1   (None, 256)              0         \n",
            " (GlobalAveragePooling2D)                                        \n",
            "                                                                 \n",
            " dense_5 (Dense)             (None, 2)                 514       \n",
            "                                                                 \n",
            "=================================================================\n",
            "Total params: 219,064\n",
            "Trainable params: 520\n",
            "Non-trainable params: 218,544\n",
            "_________________________________________________________________\n"
          ]
        }
      ],
      "source": [
        "# Training model type setup\n",
        "from tensorflow.keras.layers import Dense\n",
        "#l2 = keras.regularizers.l2(1e-5)\n",
        "l2 = None\n",
        "\n",
        "model = tf.keras.Sequential([\n",
        "    tf.keras.layers.Conv2D(32, 3, 3, activation='relu', input_shape=(96, 96, 1)),\n",
        "    tf.keras.layers.AveragePooling2D((2, 2)),  # Replaced MaxPooling with AveragePooling\n",
        "    tf.keras.layers.Flatten(),\n",
        "    tf.keras.layers.Dense(64, activation='relu'),\n",
        "    tf.keras.layers.Dense(2, activation='softmax')\n",
        "])\n",
        "\n",
        "model.summary()\n",
        "\n",
        "model_mn1 = create_mobilenetv1_model()\n",
        "model_mn1.summary()\n",
        "# #"
      ]
    },
    {
      "cell_type": "code",
      "execution_count": null,
      "metadata": {
        "id": "ti1MlFfMlZEj"
      },
      "outputs": [],
      "source": [
        "# Generate data sample for teaching model\n",
        "teachingDataSize = 5000\n",
        "\n",
        "x_list = []\n",
        "x_type = []\n",
        "for i in range(teachingDataSize):\n",
        "  x, y  = create_data_sample(1, img_shape[0], img_shape[1])\n",
        "  x_list.append(x[:, :, 0:1])\n",
        "  x_type.append(y)\n",
        "x_list = np.array(x_list)\n",
        "x_type = np.array(x_type)\n",
        "\n",
        "# save dataset"
      ]
    },
    {
      "cell_type": "code",
      "execution_count": null,
      "metadata": {
        "id": "odlwwBD_oCvQ",
        "colab": {
          "base_uri": "https://localhost:8080/",
          "height": 460
        },
        "outputId": "e670299f-5562-4fef-85f8-8a7ee5a89d6d"
      },
      "outputs": [
        {
          "output_type": "display_data",
          "data": {
            "text/plain": [
              "<Figure size 640x480 with 1 Axes>"
            ],
            "image/png": "[encoded data removed]"
          },
          "metadata": {}
        }
      ],
      "source": [
        "i = 0\n",
        "show_sample(x_list[i], x_type[i])"
      ]
    },
    {
      "cell_type": "code",
      "execution_count": null,
      "metadata": {
        "id": "odXTQBu6GPKO",
        "colab": {
          "base_uri": "https://localhost:8080/"
        },
        "outputId": "6e47c12e-3914-4e3f-90dc-a738a718d281"
      },
      "outputs": [
        {
          "output_type": "stream",
          "name": "stdout",
          "text": [
            "Num GPUs Available:  0\n"
          ]
        }
      ],
      "source": [
        "model.compile(optimizer='adam',\n",
        "              loss='sparse_categorical_crossentropy',\n",
        "              metrics=['accuracy'])\n",
        "x_list = x_list.reshape((-1, 96, 96, 1))\n",
        "##\n",
        "\n",
        "# Compile the model\n",
        "model_mn1.compile(optimizer='adam', loss='sparse_categorical_crossentropy', metrics=['accuracy'])\n",
        "# #\n",
        "\n",
        "print(\"Num GPUs Available: \", len(tf.config.list_physical_devices('GPU'))) # check GPU avaible devices"
      ]
    },
    {
      "cell_type": "code",
      "source": [
        "# Load pregenerated dataset\n"
      ],
      "metadata": {
        "id": "t9cu8o5jHsB_"
      },
      "execution_count": null,
      "outputs": []
    },
    {
      "cell_type": "code",
      "execution_count": null,
      "metadata": {
        "id": "ruf3_HvEGJyA",
        "colab": {
          "base_uri": "https://localhost:8080/"
        },
        "outputId": "122acfcd-dc8a-4866-ac1b-ee67acf3a64f"
      },
      "outputs": [
        {
          "output_type": "stream",
          "name": "stdout",
          "text": [
            "Variable                        Type                           Data/Info\n",
            "------------------------------------------------------------------------\n",
            "Conv2D                          type                           <class 'keras.layers.convolutional.Conv2D'>\n",
            "Dense                           type                           <class 'keras.layers.core.dense.Dense'>\n",
            "GlobalAveragePooling2D          type                           <class 'keras.layers.pool<...>.GlobalAveragePooling2D'>\n",
            "Input                           function                       <function Input at 0x7d65f4d09990>\n",
            "add_square                      function                       <function add_square at 0x7d65e13d3400>\n",
            "baseline_model_accuracy         float                          0.5856999754905701\n",
            "baseline_model_accuracy_v1      float                          0.5055000185966492\n",
            "batch_size                      int                            128\n",
            "callbacks                       list                           n=2\n",
            "converter                       TFLiteKerasModelConverterV2    <tensorflow.lite.python.l<...>object at 0x7d65692e2380>\n",
            "converter_mn1                   TFLiteKerasModelConverterV2    <tensorflow.lite.python.l<...>object at 0x7d656908c2e0>\n",
            "create_data_sample              function                       <function create_data_sample at 0x7d65e132d120>\n",
            "create_mobilenetv1_model        function                       <function create_mobilene<...>_model at 0x7d65e142c8b0>\n",
            "cv2                             module                         <module 'cv2' from '/usr/<...>ackages/cv2/__init__.py'>\n",
            "data_shape                      int                            0\n",
            "end_step                        ndarray                        96x96x1: 9216 elems, type `int32`, 36864 bytes\n",
            "epochs                          int                            2\n",
            "f                               BufferedWriter                 <_io.BufferedWriter name=<...>ntized_model_mn1.tflite'>\n",
            "f1                              float64                        52.21377459749553\n",
            "f1_score                        function                       <function f1_score at 0x7d65e16cf640>\n",
            "i                               int                            0\n",
            "img                             ndarray                        96x96x3: 27648 elems, type `float64`, 221184 bytes (216.0 kb)\n",
            "img_shape                       tuple                          n=3\n",
            "keras                           module                         <module 'keras.api._v2.ke<...>i/_v2/keras/__init__.py'>\n",
            "keras_file                      str                            /tmp/tmp8yus3azb.h5\n",
            "l2                              NoneType                       None\n",
            "layer                           Dense                          <keras.layers.core.dense.<...>object at 0x7d65ee8f99c0>\n",
            "layers                          module                         <module 'tensorflow.keras<...>eras/layers/__init__.py'>\n",
            "log_dir                         str                            /tmp/tmpjfotwia3\n",
            "logdir                          str                            \n",
            "model                           Sequential                     <keras.engine.sequential.<...>object at 0x7d65680d0f10>\n",
            "model_for_pruning               Sequential                     <keras.engine.sequential.<...>object at 0x7d656b484df0>\n",
            "model_for_pruning_accuracy      float                          0.5909000039100647\n",
            "model_for_pruning_accuracy_v1   float                          0.4909000098705292\n",
            "model_for_pruning_v1            Functional                     <keras.engine.functional.<...>object at 0x7d656b651030>\n",
            "model_history                   History                        <keras.callbacks.History <...>object at 0x7d655cd34460>\n",
            "model_history1                  History                        <keras.callbacks.History <...>object at 0x7d65711d2a40>\n",
            "model_mn1                       Functional                     <keras.engine.functional.<...>object at 0x7d655cd34070>\n",
            "models                          module                         <module 'keras.api._v2.ke<...>eras/models/__init__.py'>\n",
            "np                              module                         <module 'numpy' from '/us<...>kages/numpy/__init__.py'>\n",
            "num_images                      ndarray                        96x96x1: 9216 elems, type `float64`, 73728 bytes\n",
            "plt                             module                         <module 'matplotlib.pyplo<...>es/matplotlib/pyplot.py'>\n",
            "predicted_labels                list                           n=10000\n",
            "predictions                     ndarray                        10000x2: 20000 elems, type `float32`, 80000 bytes\n",
            "probability_model               Sequential                     <keras.engine.sequential.<...>object at 0x7d6568f69b40>\n",
            "prune_low_magnitude             function                       <function prune_low_magnitude at 0x7d655d4b0ee0>\n",
            "pruning_params                  dict                           n=1\n",
            "random                          module                         <module 'random' from '/u<...>ib/python3.10/random.py'>\n",
            "show_sample                     function                       <function show_sample at 0x7d65e13d3010>\n",
            "show_sample_group               function                       <function show_sample_group at 0x7d65e1659a20>\n",
            "success_rate                    int                            5726\n",
            "teachingDataSize                int                            5000\n",
            "tempfile                        module                         <module 'tempfile' from '<...>/python3.10/tempfile.py'>\n",
            "testingDataSize                 int                            10000\n",
            "tf                              module                         <module 'tensorflow' from<...>/tensorflow/__init__.py'>\n",
            "tflite_quantized_model          bytes                          b' \\x00\\x00\\x00TFL3\\x00\\x<...>\\x00\\x00\\x00\\x00\\x00\\x03'\n",
            "tflite_quantized_model_mn1      bytes                          b'\\x1c\\x00\\x00\\x00TFL3\\x1<...>\\x00\\x00\\x00\\x00\\x00\\x03'\n",
            "tfmot                           module                         <module 'tensorflow_model<...>ptimization/__init__.py'>\n",
            "validation_split                float                          0.1\n",
            "x                               ndarray                        96x96x3: 27648 elems, type `float64`, 221184 bytes (216.0 kb)\n",
            "x_list                          ndarray                        5000x96x96x1: 46080000 elems, type `float64`, 368640000 bytes (351.5625 Mb)\n",
            "x_list_test                     ndarray                        10000x96x96x1: 92160000 elems, type `float64`, 737280000 bytes (703.125 Mb)\n",
            "x_type                          ndarray                        5000: 5000 elems, type `int64`, 40000 bytes\n",
            "y                               int                            1\n",
            "y_list_test                     ndarray                        10000: 10000 elems, type `int64`, 80000 bytes\n",
            "Epoch 1/15\n",
            "40/40 [==============================] - 3s 55ms/step - loss: 0.8894 - accuracy: 0.6824\n",
            "Epoch 2/15\n",
            "40/40 [==============================] - 2s 54ms/step - loss: 0.2304 - accuracy: 0.9284\n",
            "Epoch 3/15\n",
            "40/40 [==============================] - 3s 66ms/step - loss: 0.0564 - accuracy: 0.9898\n",
            "Epoch 4/15\n",
            "40/40 [==============================] - 3s 62ms/step - loss: 0.0130 - accuracy: 0.9980\n",
            "Epoch 5/15\n",
            "40/40 [==============================] - 2s 53ms/step - loss: 0.0091 - accuracy: 0.9990\n",
            "Epoch 6/15\n",
            "40/40 [==============================] - 2s 55ms/step - loss: 0.0026 - accuracy: 0.9998\n",
            "Epoch 7/15\n",
            "40/40 [==============================] - 2s 54ms/step - loss: 0.0012 - accuracy: 1.0000\n",
            "Epoch 8/15\n",
            "40/40 [==============================] - 2s 57ms/step - loss: 5.3839e-04 - accuracy: 1.0000\n",
            "Epoch 9/15\n",
            "40/40 [==============================] - 3s 76ms/step - loss: 3.5367e-04 - accuracy: 1.0000\n",
            "Epoch 10/15\n",
            "40/40 [==============================] - 2s 55ms/step - loss: 2.4858e-04 - accuracy: 1.0000\n",
            "Epoch 11/15\n",
            "40/40 [==============================] - 2s 53ms/step - loss: 1.8587e-04 - accuracy: 1.0000\n",
            "Epoch 12/15\n",
            "40/40 [==============================] - 2s 54ms/step - loss: 1.4457e-04 - accuracy: 1.0000\n",
            "Epoch 13/15\n",
            "40/40 [==============================] - 2s 53ms/step - loss: 1.1506e-04 - accuracy: 1.0000\n",
            "Epoch 14/15\n",
            "40/40 [==============================] - 3s 77ms/step - loss: 9.5873e-05 - accuracy: 1.0000\n",
            "Epoch 15/15\n",
            "40/40 [==============================] - 2s 53ms/step - loss: 7.8407e-05 - accuracy: 1.0000\n",
            "Epoch 1/15\n",
            "40/40 [==============================] - 23s 549ms/step - loss: 0.6944 - accuracy: 0.5012\n",
            "Epoch 2/15\n",
            "40/40 [==============================] - 20s 510ms/step - loss: 0.6940 - accuracy: 0.5024\n",
            "Epoch 3/15\n",
            "40/40 [==============================] - 21s 531ms/step - loss: 0.6939 - accuracy: 0.4984\n",
            "Epoch 4/15\n",
            "40/40 [==============================] - 22s 540ms/step - loss: 0.6939 - accuracy: 0.4908\n",
            "Epoch 5/15\n",
            "40/40 [==============================] - 22s 543ms/step - loss: 0.6938 - accuracy: 0.4948\n",
            "Epoch 6/15\n",
            "40/40 [==============================] - 21s 515ms/step - loss: 0.6952 - accuracy: 0.4980\n",
            "Epoch 7/15\n",
            "40/40 [==============================] - 21s 537ms/step - loss: 0.6934 - accuracy: 0.4984\n",
            "Epoch 8/15\n",
            "40/40 [==============================] - 22s 544ms/step - loss: 0.6940 - accuracy: 0.4984\n",
            "Epoch 9/15\n",
            "40/40 [==============================] - 21s 538ms/step - loss: 0.6936 - accuracy: 0.5072\n",
            "Epoch 10/15\n",
            "40/40 [==============================] - 21s 516ms/step - loss: 0.6950 - accuracy: 0.4964\n",
            "Epoch 11/15\n",
            "40/40 [==============================] - 21s 538ms/step - loss: 0.6934 - accuracy: 0.5072\n",
            "Epoch 12/15\n",
            "40/40 [==============================] - 21s 532ms/step - loss: 0.6936 - accuracy: 0.4932\n",
            "Epoch 13/15\n",
            "40/40 [==============================] - 20s 505ms/step - loss: 0.6939 - accuracy: 0.4900\n",
            "Epoch 14/15\n",
            "40/40 [==============================] - 21s 533ms/step - loss: 0.6935 - accuracy: 0.5044\n",
            "Epoch 15/15\n",
            "40/40 [==============================] - 21s 532ms/step - loss: 0.6935 - accuracy: 0.5076\n"
          ]
        }
      ],
      "source": [
        "# train model\n",
        "%whos\n",
        "# model_history stores history of trained model (accuracy, loss) OF THE SECOND MODEL! TAKE NOTE!\n",
        "model_history = model.fit(x_list, x_type, epochs=15, batch_size=128)\n",
        "model_history1 = model_mn1.fit(x_list, x_type, epochs=15, batch_size=128)\n",
        "# #\n",
        "# save trained model\n",
        "model.save('saved_model/my_model')\n",
        "\n",
        "model_mn1.save('saved_model/mn1_model')\n",
        "# #"
      ]
    },
    {
      "cell_type": "markdown",
      "source": [
        "# Load pretrained model below"
      ],
      "metadata": {
        "id": "atMCyinRFWGT"
      }
    },
    {
      "cell_type": "code",
      "source": [
        "model = tf.keras.models.load_model('saved_model/mn1_model')"
      ],
      "metadata": {
        "id": "HKuMGtVVFd3y"
      },
      "execution_count": null,
      "outputs": []
    },
    {
      "cell_type": "markdown",
      "source": [
        "# Testing Accuracy, Loss & F1 score"
      ],
      "metadata": {
        "id": "_-kmHN6rFmOk"
      }
    },
    {
      "cell_type": "code",
      "source": [
        "# Generate data sample for testing model\n",
        "testingDataSize = 10000\n",
        "\n",
        "x_list_test = []\n",
        "y_list_test = []\n",
        "for i in range(testingDataSize):\n",
        "  x, y  = create_data_sample(1, img_shape[0], img_shape[1])\n",
        "  x_list_test.append(x[:, :, 0:1])\n",
        "  y_list_test.append(y)\n",
        "x_list_test = np.array(x_list_test)\n",
        "y_list_test = np.array(y_list_test)"
      ],
      "metadata": {
        "id": "55ixQw8Bfz8g"
      },
      "execution_count": null,
      "outputs": []
    },
    {
      "cell_type": "code",
      "source": [
        "# Sampling testing data set\n",
        "\n",
        "show_sample(x_list_test[0], y_list_test[0])"
      ],
      "metadata": {
        "id": "CtmCM6mLBqc3",
        "colab": {
          "base_uri": "https://localhost:8080/",
          "height": 460
        },
        "outputId": "f3c77007-b5b5-4c7c-8521-358850ff4162"
      },
      "execution_count": null,
      "outputs": [
        {
          "output_type": "display_data",
          "data": {
            "text/plain": [
              "<Figure size 640x480 with 1 Axes>"
            ],
            "image/png": "[encoded data removed]"
          },
          "metadata": {}
        }
      ]
    },
    {
      "cell_type": "code",
      "execution_count": null,
      "metadata": {
        "id": "fjUnbsGiJo41",
        "colab": {
          "base_uri": "https://localhost:8080/",
          "height": 489
        },
        "outputId": "17d232c7-ec4c-4b3e-d822-df6b84b8ec22"
      },
      "outputs": [
        {
          "output_type": "execute_result",
          "data": {
            "text/plain": [
              "<matplotlib.legend.Legend at 0x7d6540d69180>"
            ]
          },
          "metadata": {},
          "execution_count": 92
        },
        {
          "output_type": "display_data",
          "data": {
            "text/plain": [
              "<Figure size 640x480 with 4 Axes>"
            ],
            "image/png": "[encoded data removed]"
          },
          "metadata": {}
        }
      ],
      "source": [
        "# plotting accuracy and loss\n",
        "\n",
        "# BASIC MODEL -------------------------------------\n",
        "# accuracy\n",
        "plt.subplot(1, 4, 1)\n",
        "plt.plot(model_history.history['accuracy'])\n",
        "plt.title('Accuracy graph') # accuracy per epoch\n",
        "plt.ylabel('Accuracy')\n",
        "plt.xlabel('Epoch')\n",
        "plt.legend(['model accuracy'], loc='upper left')\n",
        "\n",
        "# loss\n",
        "plt.subplot(1, 4, 2)\n",
        "plt.plot(model_history.history['loss'])\n",
        "plt.title('Loss graph') # loss per epoch\n",
        "plt.ylabel('Loss')\n",
        "plt.xlabel('Epoch')\n",
        "plt.legend(['model loss'], loc='upper left')\n",
        "\n",
        "# MOBILENET_V1 MODEL -------------------------------------\n",
        "# accuracy\n",
        "plt.subplot(1, 4, 3)\n",
        "plt.plot(model_history1.history['accuracy'])\n",
        "plt.title('Accuracy graph 1') # accuracy per epoch\n",
        "plt.ylabel('Accuracy')\n",
        "plt.xlabel('Epoch')\n",
        "plt.legend(['model accuracy'], loc='upper left')\n",
        "\n",
        "# loss\n",
        "plt.subplot(1, 4, 4)\n",
        "plt.plot(model_history1.history['loss'])\n",
        "plt.title('Loss graph 1') # loss per epoch\n",
        "plt.ylabel('Loss')\n",
        "plt.xlabel('Epoch')\n",
        "plt.legend(['model loss'], loc='upper left')"
      ]
    },
    {
      "cell_type": "code",
      "execution_count": null,
      "metadata": {
        "id": "6ravQBFDJbzM",
        "colab": {
          "base_uri": "https://localhost:8080/"
        },
        "outputId": "e393d4bf-ad3c-4122-8ac3-25e8abaaa5b9"
      },
      "outputs": [
        {
          "output_type": "stream",
          "name": "stdout",
          "text": [
            "Baseline test accuracy of [BASIC MODEL]: 0.9908000230789185\n",
            "Saved baseline of [BASIC MODEL] to: /tmp/tmpmpr9qh9c.h5\n",
            "Baseline test accuracy of [MOBILENET_V1 MODEL]: 0.506600022315979\n",
            "Saved baseline of [MOBILENET_V1 MODEL] to: /tmp/tmpeclsu3wo.h5\n"
          ]
        }
      ],
      "source": [
        "# Success rate\n",
        "\n",
        "#probability_model = tf.keras.Sequential([model,\n",
        "#                                         tf.keras.layers.Softmax()])\n",
        "#predictions = probability_model.predict(x_list_test)\n",
        "#predicted_labels = []\n",
        "#success_rate = 0\n",
        "#for i in range(testingDataSize):\n",
        "#  if(np.argmax(predictions[i]) == y_list_test[i]):\n",
        "#      success_rate += 1\n",
        "#  predicted_labels.append(np.argmax(predictions[i]))\n",
        "# show_sample_group(x_list_test, predicted_labels, testingDataSize)\n",
        "#print(\"Success rate: \", (success_rate / testingDataSize) * 100, \"%\")\n",
        "\n",
        "# F1 score\n",
        "#f1 = f1_score(y_list_test, predicted_labels) * 100 # (reality, predictions)\n",
        "#print(f\"F1 Score: {f1} %\")\n",
        "\n",
        "#model_mn1.evaluate(x_list_test, y_list_test)\n",
        "# ======================================================================== Above is useless\n",
        "\n",
        "\n",
        "# BASIC MODEL -------------------------------------------------------------\n",
        "# Test model pre pruned and prequantized!\n",
        "_, baseline_model_accuracy = model.evaluate(\n",
        "    x_list_test, y_list_test, verbose=0) # evaluate accuracy\n",
        "\n",
        "print('Baseline test accuracy of [BASIC MODEL]:', baseline_model_accuracy)\n",
        "_, keras_file = tempfile.mkstemp('.h5')\n",
        "tf.keras.models.save_model(model, keras_file, include_optimizer=False) # save the model\n",
        "print('Saved baseline of [BASIC MODEL] to:', keras_file)\n",
        "\n",
        "\n",
        "# MOBILENET V1 MODEL ------------------------------------------------------\n",
        "# Test model pre pruned and prequantized!\n",
        "_, baseline_model_accuracy_v1 = model_mn1.evaluate(\n",
        "    x_list_test, y_list_test, verbose=0)\n",
        "\n",
        "print('Baseline test accuracy of [MOBILENET_V1 MODEL]:', baseline_model_accuracy_v1)\n",
        "_, keras_file = tempfile.mkstemp('.h5')\n",
        "tf.keras.models.save_model(model_mn1, keras_file, include_optimizer=False)\n",
        "print('Saved baseline of [MOBILENET_V1 MODEL] to:', keras_file)"
      ]
    },
    {
      "cell_type": "markdown",
      "source": [
        "# Prune the pretrained model"
      ],
      "metadata": {
        "id": "HRLvvRi9Meid"
      }
    },
    {
      "cell_type": "code",
      "source": [
        "import tensorflow_model_optimization as tfmot\n",
        "\n",
        "prune_low_magnitude = tfmot.sparsity.keras.prune_low_magnitude\n",
        "\n",
        "# Compute end step to finish pruning after 2 epochs.\n",
        "batch_size = 128\n",
        "epochs = 2\n",
        "validation_split = 0.1 # 10% of training set will be used for validation set.\n",
        "\n",
        "# END STEP = ????\n",
        "# Define model for pruning.\n",
        "pruning_params = {\n",
        "      'pruning_schedule': tfmot.sparsity.keras.PolynomialDecay(initial_sparsity=0.50,\n",
        "                                                               final_sparsity=0.80,\n",
        "                                                               begin_step=0,\n",
        "                                                               end_step=1024)\n",
        "}\n",
        "\n",
        "# BASIC MODEL -------------------------------------------------------------------------\n",
        "model_for_pruning = prune_low_magnitude(model, **pruning_params)\n",
        "\n",
        "# `prune_low_magnitude` requires a recompile.\n",
        "model_for_pruning.compile(optimizer='adam',\n",
        "              loss=tf.keras.losses.SparseCategoricalCrossentropy(from_logits=True),\n",
        "              metrics=['accuracy'])\n",
        "\n",
        "# summary\n",
        "model_for_pruning.summary()\n",
        "\n",
        "# MOBILENET V1 MODEL ------------------------------------------------------------------\n",
        "model_for_pruning_v1 = prune_low_magnitude(model_mn1, **pruning_params)\n",
        "model_for_pruning_v1.compile(optimizer='adam',\n",
        "              loss=tf.keras.losses.SparseCategoricalCrossentropy(from_logits=True),\n",
        "              metrics=['accuracy'])\n",
        "\n",
        "model_for_pruning_v1.summary()"
      ],
      "metadata": {
        "colab": {
          "base_uri": "https://localhost:8080/"
        },
        "id": "Cc-MYU0nMeS-",
        "outputId": "2cd140a4-cd9c-4b2c-ebb2-a9be0518d36d"
      },
      "execution_count": null,
      "outputs": [
        {
          "output_type": "stream",
          "name": "stdout",
          "text": [
            "Model: \"sequential_4\"\n",
            "_________________________________________________________________\n",
            " Layer (type)                Output Shape              Param #   \n",
            "=================================================================\n",
            " prune_low_magnitude_conv2d_  (None, 32, 32, 32)       610       \n",
            " 2 (PruneLowMagnitude)                                           \n",
            "                                                                 \n",
            " prune_low_magnitude_average  (None, 16, 16, 32)       1         \n",
            " _pooling2d_1 (PruneLowMagni                                     \n",
            " tude)                                                           \n",
            "                                                                 \n",
            " prune_low_magnitude_flatten  (None, 8192)             1         \n",
            " _1 (PruneLowMagnitude)                                          \n",
            "                                                                 \n",
            " prune_low_magnitude_dense_3  (None, 64)               1048642   \n",
            "  (PruneLowMagnitude)                                            \n",
            "                                                                 \n",
            " prune_low_magnitude_dense_4  (None, 2)                260       \n",
            "  (PruneLowMagnitude)                                            \n",
            "                                                                 \n",
            "=================================================================\n",
            "Total params: 1,049,514\n",
            "Trainable params: 524,802\n",
            "Non-trainable params: 524,712\n",
            "_________________________________________________________________\n",
            "Model: \"model_1\"\n",
            "_________________________________________________________________\n",
            " Layer (type)                Output Shape              Param #   \n",
            "=================================================================\n",
            " input_3 (InputLayer)        [(None, 96, 96, 1)]       0         \n",
            "                                                                 \n",
            " prune_low_magnitude_conv2d_  (None, 96, 96, 3)        11        \n",
            " 3 (PruneLowMagnitude)                                           \n",
            "                                                                 \n",
            " mobilenet_0.25_224 (Functio  (None, None, None, 256)  415083    \n",
            " nal)                                                            \n",
            "                                                                 \n",
            " prune_low_magnitude_global_  (None, 256)              1         \n",
            " average_pooling2d_1 (PruneL                                     \n",
            " owMagnitude)                                                    \n",
            "                                                                 \n",
            " prune_low_magnitude_dense_5  (None, 2)                1028      \n",
            "  (PruneLowMagnitude)                                            \n",
            "                                                                 \n",
            "=================================================================\n",
            "Total params: 416,123\n",
            "Trainable params: 520\n",
            "Non-trainable params: 415,603\n",
            "_________________________________________________________________\n"
          ]
        }
      ]
    },
    {
      "cell_type": "code",
      "source": [
        "# Evaluate the model pruning\n",
        "import tempfile\n",
        "log_dir = tempfile.mkdtemp()\n",
        "callbacks = [\n",
        "  tfmot.sparsity.keras.UpdatePruningStep(),\n",
        "  tfmot.sparsity.keras.PruningSummaries(log_dir = log_dir),\n",
        "]\n",
        "\n",
        "# BASIC MODEL -----------------------\n",
        "model_for_pruning.fit(x_list, x_type,\n",
        "                  batch_size=batch_size, epochs=epochs, validation_split=validation_split,\n",
        "                  callbacks=callbacks)\n",
        "\n",
        "# MOBILENET V1 MODEL -----------------------\n",
        "model_for_pruning_v1.fit(x_list, x_type,\n",
        "                  batch_size=batch_size, epochs=epochs, validation_split=validation_split,\n",
        "                  callbacks=callbacks)"
      ],
      "metadata": {
        "colab": {
          "base_uri": "https://localhost:8080/"
        },
        "id": "0cDsZsBzOMxj",
        "outputId": "aede52fa-fcd8-4ddf-ec2d-18e5ce13a976"
      },
      "execution_count": null,
      "outputs": [
        {
          "output_type": "stream",
          "name": "stdout",
          "text": [
            "Epoch 1/2\n"
          ]
        },
        {
          "output_type": "stream",
          "name": "stderr",
          "text": [
            "/usr/local/lib/python3.10/dist-packages/tensorflow/python/util/dispatch.py:1082: UserWarning: \"`sparse_categorical_crossentropy` received `from_logits=True`, but the `output` argument was produced by a sigmoid or softmax activation and thus does not represent logits. Was this intended?\"\n",
            "  return dispatch_target(*args, **kwargs)\n"
          ]
        },
        {
          "output_type": "stream",
          "name": "stdout",
          "text": [
            "36/36 [==============================] - 6s 65ms/step - loss: 0.0021 - accuracy: 0.9991 - val_loss: 0.0055 - val_accuracy: 0.9980\n",
            "Epoch 2/2\n",
            "36/36 [==============================] - 3s 80ms/step - loss: 0.0039 - accuracy: 0.9991 - val_loss: 0.0025 - val_accuracy: 0.9980\n",
            "Epoch 1/2\n",
            "36/36 [==============================] - 36s 583ms/step - loss: 0.6944 - accuracy: 0.4980 - val_loss: 0.6925 - val_accuracy: 0.5180\n",
            "Epoch 2/2\n",
            "36/36 [==============================] - 19s 526ms/step - loss: 0.6937 - accuracy: 0.4918 - val_loss: 0.6930 - val_accuracy: 0.5180\n"
          ]
        },
        {
          "output_type": "execute_result",
          "data": {
            "text/plain": [
              "<keras.callbacks.History at 0x7d653f1fde40>"
            ]
          },
          "metadata": {},
          "execution_count": 95
        }
      ]
    },
    {
      "cell_type": "code",
      "source": [
        "# Generate AGAIN data sample for testing\n",
        "testingDataSize = 10000\n",
        "\n",
        "x_list_test = []\n",
        "y_list_test = []\n",
        "for i in range(testingDataSize):\n",
        "  x, y  = create_data_sample(1, img_shape[0], img_shape[1])\n",
        "  x_list_test.append(x[:, :, 0:1])\n",
        "  y_list_test.append(y)\n",
        "x_list_test = np.array(x_list_test)\n",
        "y_list_test = np.array(y_list_test)"
      ],
      "metadata": {
        "id": "p1ylPnKNR3xe"
      },
      "execution_count": null,
      "outputs": []
    },
    {
      "cell_type": "code",
      "source": [
        "# Test pruned BASIC MODEL\n",
        "_, model_for_pruning_accuracy = model_for_pruning.evaluate(\n",
        "   x_list_test, y_list_test, verbose=0)\n",
        "\n",
        "print('[Basic Model] Baseline test accuracy:', baseline_model_accuracy)\n",
        "print('[Basic Model] Pruned test accuracy:', model_for_pruning_accuracy)\n",
        "\n",
        "# Test pruned MOBILENET_V1 MODEL\n",
        "_, model_for_pruning_accuracy_v1 = model_for_pruning_v1.evaluate(\n",
        "   x_list_test, y_list_test, verbose=0)\n",
        "\n",
        "print('[Mobilenet v1 Model] Baseline test accuracy:', baseline_model_accuracy_v1)\n",
        "print('[Mobilenet v1 Model] Pruned test accuracy:', model_for_pruning_accuracy_v1)"
      ],
      "metadata": {
        "colab": {
          "base_uri": "https://localhost:8080/"
        },
        "id": "vhU6bs_kPbGh",
        "outputId": "2377a5ed-6511-4281-ccd8-20e3eb4cc09b"
      },
      "execution_count": null,
      "outputs": [
        {
          "output_type": "stream",
          "name": "stdout",
          "text": [
            "[Basic Model] Baseline test accuracy: 0.9908000230789185\n",
            "[Basic Model] Pruned test accuracy: 0.9882000088691711\n",
            "[Mobilenet v1 Model] Baseline test accuracy: 0.506600022315979\n",
            "[Mobilenet v1 Model] Pruned test accuracy: 0.507099986076355\n"
          ]
        }
      ]
    },
    {
      "cell_type": "markdown",
      "source": [
        "# Model Export\n"
      ],
      "metadata": {
        "id": "_ZeFJsx9IijT"
      }
    },
    {
      "cell_type": "code",
      "source": [
        "# BASIC MODEL -------------------\n",
        "for layer in model.layers:\n",
        "    layer.trainable = False\n",
        "model.summary()\n",
        "model.save('frozen_model.h5')\n",
        "\n",
        "# MOBILENET V1 MODEL ------------\n",
        "for layer in model_mn1.layers:\n",
        "    layer.trainable = False\n",
        "\n",
        "model_mn1.save('frozen_mobilenetv1_model.h5')"
      ],
      "metadata": {
        "id": "2DOZTBzSIopt",
        "colab": {
          "base_uri": "https://localhost:8080/"
        },
        "outputId": "1ca592ff-6358-48c6-ac94-74e7abc0a66c"
      },
      "execution_count": null,
      "outputs": [
        {
          "output_type": "stream",
          "name": "stdout",
          "text": [
            "Model: \"sequential_4\"\n",
            "_________________________________________________________________\n",
            " Layer (type)                Output Shape              Param #   \n",
            "=================================================================\n",
            " conv2d_2 (Conv2D)           (None, 32, 32, 32)        320       \n",
            "                                                                 \n",
            " average_pooling2d_1 (Averag  (None, 16, 16, 32)       0         \n",
            " ePooling2D)                                                     \n",
            "                                                                 \n",
            " flatten_1 (Flatten)         (None, 8192)              0         \n",
            "                                                                 \n",
            " dense_3 (Dense)             (None, 64)                524352    \n",
            "                                                                 \n",
            " dense_4 (Dense)             (None, 2)                 130       \n",
            "                                                                 \n",
            "=================================================================\n",
            "Total params: 524,802\n",
            "Trainable params: 0\n",
            "Non-trainable params: 524,802\n",
            "_________________________________________________________________\n"
          ]
        }
      ]
    },
    {
      "cell_type": "markdown",
      "source": [
        "Quantization is a process of reducing the precision of the weights and activations in a model, typically from 32-bit floating-point to 8-bit integer. This can significantly reduce the model size, making it more suitable for deployment on memory-constrained devices like microcontrollers.\n",
        "\n",
        "To quantize a model for TensorFlow Lite, you can follow these steps:\n",
        "\n",
        "    Train the Model:\n",
        "        Train your model as usual, making sure it performs well on your task.\n",
        "\n",
        "    Quantize the Model:\n",
        "        After training, apply quantization to the model. TensorFlow provides tools for quantizing a model using the TensorFlow Lite Converter.\n",
        "\n",
        "Here's an example of how you can quantize your model:"
      ],
      "metadata": {
        "id": "yQ4QUnFtI7mG"
      }
    },
    {
      "cell_type": "code",
      "source": [
        "import tensorflow as tf\n",
        "from tensorflow.keras import layers, models\n",
        "\n",
        "# BASIC MODEL --------------------------------------------------------------\n",
        "# Assuming you have your trained model\n",
        "model = models.load_model('frozen_model.h5')\n",
        "\n",
        "# Convert the model to TensorFlow Lite format with quantization\n",
        "converter = tf.lite.TFLiteConverter.from_keras_model(model)\n",
        "converter.optimizations = [tf.lite.Optimize.DEFAULT]\n",
        "tflite_quantized_model = converter.convert()\n",
        "\n",
        "# Save the quantized model to a file\n",
        "with open('quantized_model.tflite', 'wb') as f:\n",
        "    f.write(tflite_quantized_model)\n",
        "\n",
        "# MOBILENET V1 MODEL -------------------------------------------------------\n",
        "# Assuming you have your trained MobileNetV1 model\n",
        "model_mn1 = models.load_model('frozen_mobilenetv1_model.h5')\n",
        "\n",
        "# Convert the MobileNetV1 model to TensorFlow Lite format with quantization\n",
        "converter_mn1 = tf.lite.TFLiteConverter.from_keras_model(model_mn1)\n",
        "converter_mn1.optimizations = [tf.lite.Optimize.OPTIMIZE_FOR_SIZE]\n",
        "tflite_quantized_model_mn1 = converter_mn1.convert()\n",
        "\n",
        "# Save the quantized MobileNetV1 model to a file\n",
        "with open('quantized_model_mn1.tflite', 'wb') as f:\n",
        "    f.write(tflite_quantized_model_mn1)\n",
        "\n",
        "\n",
        "\n"
      ],
      "metadata": {
        "id": "knst2ij6I3OB",
        "colab": {
          "base_uri": "https://localhost:8080/"
        },
        "outputId": "5becaa7c-24ad-43a2-eee4-d2f840717dc4"
      },
      "execution_count": null,
      "outputs": [
        {
          "output_type": "stream",
          "name": "stderr",
          "text": [
            "WARNING:tensorflow:Error in loading the saved optimizer state. As a result, your model is starting with a freshly initialized optimizer.\n",
            "WARNING:tensorflow:Error in loading the saved optimizer state. As a result, your model is starting with a freshly initialized optimizer.\n",
            "WARNING:absl:Optimization option OPTIMIZE_FOR_SIZE is deprecated, please use optimizations=[Optimize.DEFAULT] instead.\n",
            "WARNING:absl:Optimization option OPTIMIZE_FOR_SIZE is deprecated, please use optimizations=[Optimize.DEFAULT] instead.\n",
            "WARNING:absl:Optimization option OPTIMIZE_FOR_SIZE is deprecated, please use optimizations=[Optimize.DEFAULT] instead.\n"
          ]
        }
      ]
    },
    {
      "cell_type": "code",
      "source": [
        "! apt-get -qq install xxd\n",
        "! xxd -i quantized_model.tflite > trimera_model.c\n",
        "! xxd -i quantized_model_mn1.tflite > trimera_model_mn1.c\n",
        "! ls -l\n",
        "! zip model.zip trimera_model.c\n",
        "! zip model_mn1.zip trimera_model_mn1.c"
      ],
      "metadata": {
        "id": "TmQ4AwbQJMs2",
        "colab": {
          "base_uri": "https://localhost:8080/"
        },
        "outputId": "ef2a6eb8-6d46-45c7-fbbd-0bf589454d41"
      },
      "execution_count": null,
      "outputs": [
        {
          "output_type": "stream",
          "name": "stdout",
          "text": [
            "total 13032\n",
            "-rw-r--r-- 1 root root 1055872 Feb  4 23:30 frozen_mobilenetv1_model.h5\n",
            "-rw-r--r-- 1 root root 6332272 Feb  4 23:30 frozen_model.h5\n",
            "-rw-r--r-- 1 root root  299544 Feb  4 23:31 quantized_model_mn1.tflite\n",
            "-rw-r--r-- 1 root root  528872 Feb  4 23:31 quantized_model.tflite\n",
            "drwxr-xr-x 1 root root    4096 Feb  1 14:21 sample_data\n",
            "drwxr-xr-x 4 root root    4096 Feb  4 22:09 saved_model\n",
            "-rw-r--r-- 1 root root 3261473 Feb  4 23:31 trimera_model.c\n",
            "-rw-r--r-- 1 root root 1847291 Feb  4 23:31 trimera_model_mn1.c\n",
            "  adding: trimera_model.c (deflated 79%)\n",
            "  adding: trimera_model_mn1.c (deflated 79%)\n"
          ]
        }
      ]
    },
    {
      "cell_type": "code",
      "source": [
        "! ls -l\n"
      ],
      "metadata": {
        "id": "yMB4Te3QjFqt"
      },
      "execution_count": null,
      "outputs": []
    }
  ],
  "metadata": {
    "accelerator": "GPU",
    "colab": {
      "provenance": [],
      "name": "model_ml_04022024.ipynb",
      "collapsed_sections": [
        "3yKWi4laYTn7",
        "QQSBd0vwGGaF",
        "atMCyinRFWGT"
      ],
      "include_colab_link": true
    },
    "kernelspec": {
      "display_name": "Python 3",
      "name": "python3"
    },
    "language_info": {
      "codemirror_mode": {
        "name": "ipython",
        "version": 3
      },
      "file_extension": ".py",
      "mimetype": "text/x-python",
      "name": "python",
      "nbconvert_exporter": "python",
      "pygments_lexer": "ipython3",
      "version": "3.11.6"
    }
  },
  "nbformat": 4,
  "nbformat_minor": 0
}